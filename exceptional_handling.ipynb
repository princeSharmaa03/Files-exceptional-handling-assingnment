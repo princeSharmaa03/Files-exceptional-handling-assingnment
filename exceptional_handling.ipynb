{
 "cells": [
  {
   "cell_type": "markdown",
   "id": "2ab99d34-517c-4072-9937-9cd08be6f3ec",
   "metadata": {},
   "source": [
    "## Files, exceptional handling, logging and memory management "
   ]
  },
  {
   "cell_type": "markdown",
   "id": "8f4ccf62-19a7-4d99-adba-9138f038670f",
   "metadata": {},
   "source": [
    "# Assingnment:"
   ]
  },
  {
   "cell_type": "markdown",
   "id": "7cf554b8-6a57-4249-b076-34125827c0fa",
   "metadata": {},
   "source": [
    "## Files, exceptional handling, logging and memory management Questions"
   ]
  },
  {
   "cell_type": "markdown",
   "id": "61249df6-898c-4683-93be-bf7ca7784a3d",
   "metadata": {},
   "source": [
    "Q1. What is the difference between interpreted and compiled languages?\n"
   ]
  },
  {
   "cell_type": "markdown",
   "id": "31cd24c0-0fc7-4cfe-9019-09fd605ac305",
   "metadata": {},
   "source": [
    "# Ans. 🔹 Compiled Languages\n",
    "* Definition: The code is translated entirely into machine code by a compiler before it's run.\n",
    "\n",
    "* Examples: C, C++, Rust, Go\n",
    "\n",
    "* Process:\n",
    "\n",
    "1. You write code.\n",
    "\n",
    "2. The compiler converts the code to machine code (a binary file).\n",
    "\n",
    "3. You run the compiled file.\n",
    "\n",
    "* Pros:\n",
    "\n",
    "1. Faster execution (since it's already machine code).\n",
    "\n",
    "2. Better optimization by the compiler.\n",
    "\n",
    "* Cons:\n",
    "\n",
    "1. Slower to test changes (you have to recompile).\n",
    "\n",
    "2. More difficult to debug.\n",
    "\n",
    " Interpreted Languages\n",
    "* Definition: The code is read and executed line by line by an interpreter at runtime.\n",
    "\n",
    "* Examples: Python, JavaScript, Ruby\n",
    "\n",
    "* Process:\n",
    "\n",
    "1. You write code.\n",
    "\n",
    "2. The interpreter reads and runs it directly.\n",
    "\n",
    "* Pros:\n",
    "\n",
    "1. Easier to test and debug.\n",
    "\n",
    "2. More flexible and portable.\n",
    "\n",
    "* Cons:\n",
    "\n",
    "1. Slower execution.\n",
    "\n",
    "2. Needs interpreter installed to run."
   ]
  },
  {
   "cell_type": "markdown",
   "id": "b092be05-671d-47df-854e-01d1d953df2e",
   "metadata": {},
   "source": [
    "Q2. What is exception handling in Python?\n"
   ]
  },
  {
   "cell_type": "markdown",
   "id": "5dbc8b6d-639e-474a-b7f7-d9e230790c9f",
   "metadata": {},
   "source": [
    "Ans. An exception is an error that occurs during the execution of a program.\n",
    "\n",
    "Example:"
   ]
  },
  {
   "cell_type": "code",
   "execution_count": 5,
   "id": "2a5770ce-bd25-49ce-a54f-2fbe8b4fff6f",
   "metadata": {},
   "outputs": [
    {
     "ename": "ZeroDivisionError",
     "evalue": "division by zero",
     "output_type": "error",
     "traceback": [
      "\u001b[1;31m---------------------------------------------------------------------------\u001b[0m",
      "\u001b[1;31mZeroDivisionError\u001b[0m                         Traceback (most recent call last)",
      "Cell \u001b[1;32mIn[5], line 1\u001b[0m\n\u001b[1;32m----> 1\u001b[0m \u001b[38;5;28mprint\u001b[39m(\u001b[38;5;241;43m5\u001b[39;49m\u001b[43m \u001b[49m\u001b[38;5;241;43m/\u001b[39;49m\u001b[43m \u001b[49m\u001b[38;5;241;43m0\u001b[39;49m)  \u001b[38;5;66;03m# This will raise a ZeroDivisionError\u001b[39;00m\n",
      "\u001b[1;31mZeroDivisionError\u001b[0m: division by zero"
     ]
    }
   ],
   "source": [
    "print(5 / 0)  # This will raise a ZeroDivisionError\n"
   ]
  },
  {
   "cell_type": "markdown",
   "id": "610f94a6-fd26-4fd6-ba70-79ac16c29843",
   "metadata": {},
   "source": [
    "Without exception handling, Python stops the program when it hits an error.\n",
    "With exception handling, you can catch the error, show a message, or handle it differently — so the program continues smoothly."
   ]
  },
  {
   "cell_type": "markdown",
   "id": "38787389-547f-4394-8de4-4600f35fbf5f",
   "metadata": {},
   "source": [
    "Basic Syntax "
   ]
  },
  {
   "cell_type": "code",
   "execution_count": null,
   "id": "e04f4b08-7124-46e9-b4ed-86870fbb6296",
   "metadata": {},
   "outputs": [],
   "source": [
    "try:\n",
    "    # Code that might cause an exception\n",
    "    x = 10 / 0\n",
    "except ZeroDivisionError:\n",
    "    # Code that runs if there's a ZeroDivisionError\n",
    "    print(\"You can't divide by zero!\")\n",
    "finally:\n",
    "    # Code that always runs\n",
    "    print(\"This runs no matter what.\")\n"
   ]
  },
  {
   "cell_type": "markdown",
   "id": "c56a73bf-e135-41b1-b0c8-ea45fdf38cda",
   "metadata": {},
   "source": [
    "Q3. What is the purpose of the finally block in exception handling?\n"
   ]
  },
  {
   "cell_type": "markdown",
   "id": "f6982ef8-abea-4d9a-a3f0-53391f0bfb7c",
   "metadata": {},
   "source": [
    "Ans.  Purpose of finally\n",
    "* It is used for cleanup actions like:\n",
    "\n",
    "1. Closing a file\n",
    "\n",
    "2. Releasing resources\n",
    "\n",
    "3. Disconnecting from a database\n",
    "\n",
    "* Ensures that important tasks are not skipped, even if an error happens."
   ]
  },
  {
   "cell_type": "markdown",
   "id": "c295fe82-ce10-439a-a9c8-864b3cd68db2",
   "metadata": {},
   "source": [
    "Q4. What is logging in Python?\n"
   ]
  },
  {
   "cell_type": "markdown",
   "id": "a7731b1a-9e15-4352-925a-f13100949441",
   "metadata": {},
   "source": [
    "Ans. Logging in Python is the process of recording messages that describe events occurring while a program runs. These messages can provide insight into the program's execution flow, making it easier to debug, monitor, and maintain.\n",
    "Python provides a built-in logging module, which allows developers to log messages with different levels of importance such as debugging information, warnings, errors, or critical issues.\n",
    "Unlike the print() function, which only displays output on the screen, logging can also store messages in files or send them to external systems, making it more suitable for large applications.\n",
    "\n",
    "Logging is commonly used to:\n",
    "\n",
    "* Track the flow of a program\n",
    "\n",
    "* Record errors and exceptions\n",
    "\n",
    "* Monitor application behavior in production\n",
    "\n",
    "* Maintain records for future analysis\n",
    "\n",
    "The logging system in Python supports different log levels such as:\n",
    "\n",
    "* DEBUG – Detailed information for diagnosing problems\n",
    "\n",
    "* INFO – General information about the program’s execution\n",
    "\n",
    "* WARNING – An indication of a potential problem\n",
    "\n",
    "* ERROR – A more serious issue that has caused part of the program to fail\n",
    "\n",
    "* CRITICAL – A very serious error that may prevent the program from continuing\n",
    "\n",
    "By using logging, developers can make their code more robust, maintainable, and easier to troubleshoot."
   ]
  },
  {
   "cell_type": "markdown",
   "id": "6770a681-11c1-4bc2-9ac5-4b1551b57d1d",
   "metadata": {},
   "source": [
    "Q5. What is the significance of the __del__ method in Python?\n",
    " "
   ]
  },
  {
   "cell_type": "markdown",
   "id": "f01fdff2-5a0e-4b08-8f70-89c412f0465b",
   "metadata": {},
   "source": [
    "Ans. The __del__ method in Python is a special method also known as a destructor. It is automatically called when an object is about to be destroyed. This typically happens when there are no more references to the object and it is being garbage collected by Python.\n",
    "\n",
    "The main purpose of the __del__ method is to allow the programmer to define cleanup actions that should be performed before the object is removed from memory. For example, it can be used to close open files, release network resources, or save data.\n",
    "\n",
    "Significance of __del__:\n",
    "* It helps in resource management, especially for tasks that require cleanup.\n",
    "\n",
    "* It ensures that important operations are performed before the object is deleted.\n",
    "\n",
    "* It is called automatically, and the user does not need to call it manually.\n",
    "\n"
   ]
  },
  {
   "cell_type": "markdown",
   "id": "0e2ba06c-cf26-4de7-9792-27116692a998",
   "metadata": {},
   "source": [
    "Q6. What is the difference between import and from ... import in Python?\n"
   ]
  },
  {
   "cell_type": "markdown",
   "id": "10e76142-5faf-4f28-ae55-9bc72ffe8c0a",
   "metadata": {},
   "source": [
    "Ans. At its core, Python's import system is about namespace management and code organization. Modules serve as isolated namespaces, preventing naming collisions between different parts of your program or external libraries.\n",
    "\n",
    "import module_name:\n",
    "\n",
    "Theoretically, the import module_name statement performs the following key actions:\n",
    "\n",
    "1. Locating the Module: Python's import mechanism searches for the specified module_name in a defined sequence of locations (including the current directory, directories listed in sys.path, and installation-dependent default paths).\n",
    "2. Loading the Module: Once found, Python loads the module's code. This typically involves executing the Python code within the module file.\n",
    "3. Creating a Module Object: A module object is created in the current namespace. This object acts as a container for all the attributes (functions, classes, variables) defined within the loaded module.\n",
    "4. Binding the Name: The module_name in your current scope is bound to this newly created module object.\n",
    "Therefore, when you use import math, you're essentially creating a reference named math in your current scope that points to the math module object. To access any item within math, you must go through this reference using dot notation (e.g., math.sqrt). This maintains the separation of namespaces, ensuring that the sqrt function in the math module doesn't clash with a variable or function named sqrt you might have defined elsewhere in your code.\n",
    "\n",
    "from module_name import specific_item:\n",
    "\n",
    "The from module_name import specific_item statement operates somewhat differently at a theoretical level:\n",
    "\n",
    "1. Locating and Loading (Same as import): It also begins by locating and loading the specified module_name.\n",
    "2. Accessing Specific Item(s): After the module is loaded, Python retrieves the specific_item (or items) from the module's namespace.\n",
    "3. Binding Names Directly: Instead of creating a module object in the current namespace, this statement directly binds the name(s) of the specific_item(s) to the corresponding objects from the module within your current namespace.\n",
    "So, from math import sqrt doesn't create a math object in your scope. Instead, it directly creates a name sqrt in your scope and makes it refer to the square root function that resides within the math module. You can then use sqrt() directly because its name is now part of your current namespace."
   ]
  },
  {
   "cell_type": "markdown",
   "id": "1f3c7326-3582-4fd7-8b10-363d06edc071",
   "metadata": {},
   "source": [
    "Q7. How can you handle multiple exceptions in Python?\n"
   ]
  },
  {
   "cell_type": "markdown",
   "id": "20f09730-04ef-4264-a29c-b1f8ff56c947",
   "metadata": {},
   "source": [
    "Ans.  1. Exception Propagation:\n",
    "\n",
    "When an exception occurs within a try block, the normal flow of execution is interrupted. Python then begins a process called exception propagation. It searches for an appropriate exception handler (an except block) in the current scope. If no matching except block is found, the exception propagates up the call stack to the enclosing scope (the function that called the current function, and so on). This process continues until an appropriate handler is found or the exception reaches the top level of the program, causing it to terminate (if unhandled).\n",
    "\n",
    "2. The Exception Hierarchy:\n",
    "\n",
    "Python's exceptions are organized into a hierarchical class structure, with BaseException being the ultimate base class. Exception is a direct subclass of BaseException and serves as the base for most built-in exceptions that indicate errors a program might want to catch. Specific exception types (like ValueError, TypeError, FileNotFoundError) inherit from Exception, forming a tree-like structure.\n",
    "\n",
    "This hierarchy is crucial for handling multiple exceptions because:\n",
    "* Specificity: You can catch specific exception types to handle particular error conditions precisely.\n",
    "* Generality: You can catch a base class (like Exception) to handle a broader category of errors. If an except block specifies a base class, it will catch instances of that class and any of its subclasses. This is how a single except Exception as e: can potentially catch many different types of errors.\n",
    "\n",
    "3. Structured Control Flow (try...except...else...finally):\n",
    "\n",
    "The try...except...else...finally statement provides a structured way to manage potential exceptions:\n",
    "\n",
    "* try Block: This block encloses the code that might raise an exception. The interpreter monitors this block for exceptions.\n",
    "* except Block(s): One or more except blocks follow the try block. Each except block specifies the type of exception it is designed to handle. When an exception occurs in the try block, Python checks each except block in order. If the type of the raised exception matches the type specified in an except clause (or is a subclass of it), the code within that except block is executed.\n",
    "* Multiple except Blocks (Theory): The theoretical basis for allowing multiple except blocks is to enable fine-grained control over different error scenarios. Each except block acts as a specific handler for a particular type (or types) of exception. This aligns with the principle of handling errors as specifically as possible to maintain program correctness and provide informative feedback.\n",
    "* Catching Multiple Exceptions in One Block (Theory): The ability to specify a tuple of exception types in a single except clause provides a mechanism for handling conceptually related errors with the same logic. From a theoretical perspective, this promotes code reuse and reduces redundancy when the response to several distinct exception types is identical.\n",
    "* else Block (Theory): The else block provides a designated space for code that should execute only if the try block completes successfully without raising any exceptions. This cleanly separates the \"happy path\" code from the error handling logic, improving readability and the logical structure of the error handling.\n",
    "* finally Block (Theory): The finally block guarantees the execution of its code regardless of whether an exception was raised in the try block and whether or not it was handled by an except block. This is crucial for resource management (e.g., closing files, releasing locks) to ensure that essential cleanup operations are always performed, maintaining system integrity even in the face of errors."
   ]
  },
  {
   "cell_type": "markdown",
   "id": "8a9d6b20-504c-4f7f-8582-7eaa449bb500",
   "metadata": {},
   "source": [
    "Q8. What is the purpose of the with statement when handling files in Python?\n"
   ]
  },
  {
   "cell_type": "markdown",
   "id": "52dc4e07-cfe6-4094-9307-68cfd8667e7e",
   "metadata": {},
   "source": [
    "Ans. 1. Resource Acquisition Is Initialization (RAII):\n",
    "\n",
    "While Python doesn't strictly adhere to RAII in the same way as languages like C++, the with statement provides a mechanism that achieves a similar outcome for certain types of resources, including files. The core idea of RAII is that resource management (acquisition and release) is tied to the lifespan of an object. When an object is created (initialized), the resource is acquired. When the object goes out of scope (its destructor is called in C++), the resource is automatically released.\n",
    "In Python's with statement:\n",
    "\n",
    "* The open() function acts as the \"acquisition\" phase, returning a file object.\n",
    "* The with block defines the scope where this file object is considered \"active.\"\n",
    "* The __exit__() method of the file object (invoked automatically by the with statement) acts as the \"release\" phase, ensuring the file is closed when the with block is exited.\n",
    "Thus, the with statement, in the context of file handling, embodies the principles of RAII by associating the lifecycle of the file resource with the lexical scope of the with block, guaranteeing cleanup.\n",
    "\n",
    "2. Context Management Protocol:\n",
    "\n",
    "The with statement is a language construct that leverages the Context Management Protocol, defined by the special methods __enter__() and __exit__(). Objects that implement this protocol are known as context managers.\n",
    "* __enter__(): This method is invoked when the execution flow enters the with block. It typically performs setup actions, such as acquiring the resource (e.g., opening a file) and can return a value that is bound to the target variable specified by as (e.g., the file object itself).\n",
    "* __exit__(exc_type, exc_val, exc_tb): This method is invoked when the execution flow leaves the with block, regardless of whether the block completed normally or an exception occurred. Its primary responsibility is to perform cleanup actions, such as releasing the acquired resource (e.g., closing the file). The arguments passed to __exit__ provide information about any exception that might have been raised within the with block, allowing the context manager to handle or suppress exceptions if necessary."
   ]
  },
  {
   "cell_type": "markdown",
   "id": "ea1dc0c5-0a4a-42bf-9f3b-0669158fd4a1",
   "metadata": {},
   "source": [
    "Q9. How can you read a file line by line and store its content in a list in Python?\n"
   ]
  },
  {
   "cell_type": "markdown",
   "id": "392c666f-2f2b-48d5-b273-e90e25b327a9",
   "metadata": {},
   "source": [
    "Ans. 1. File I/O Streams:\n",
    "\n",
    "When a file is opened in Python (e.g., using open(file_path, 'r')), it is treated as a stream of data. For reading, this stream is conceptually a sequence of characters organized into lines, delimited by newline characters (\\n). The operating system manages the underlying mechanisms for accessing the file's content on disk and presenting it as a readable stream to the Python interpreter.\n",
    "\n",
    "2. Iterators and the File Object:\n",
    "\n",
    "Python file objects are designed to be iterators. The iterator protocol in Python relies on two core methods: __iter__() and __next__().\n",
    "\n",
    "* The __iter__() method, when called on a file object, returns the file object itself. This signifies that the file object is its own iterator.\n",
    "* The __next__() method is responsible for returning the next item in the sequence. For a file object in read mode, each call to __next__() reads the next line from the file (including the newline character) and returns it as a string. When the end of the file is reached, subsequent calls to __next__() raise a StopIteration exception, signaling the end of the iteration.\n",
    "The for line in file: construct in Python implicitly utilizes this iterator protocol. Behind the scenes, it obtains an iterator from the file object (using iter(file)) and then repeatedly calls next() on this iterator until a StopIteration exception is raised, at which point the loop terminates.\n",
    "\n",
    "3. Sequential Data Processing:\n",
    "\n",
    "Reading a file line by line is a form of sequential data processing. Each line is processed in the order it appears in the file. This approach is particularly efficient for large files because it avoids loading the entire file content into memory at once. Instead, each line is read and processed individually.\n",
    "\n",
    "4. Storing in a List:\n",
    "\n",
    "To store the content in a list, each line read from the file (using the iterator mechanism) is appended as an element to a Python list. The append() method efficiently adds the new line to the end of the list, dynamically growing the list as more lines are read from the file.\n",
    "\n",
    "5. Handling Line Endings:\n",
    "\n",
    "The newline character (\\n) is a convention used to mark the end of a line in text files. When reading lines using the file iterator or methods like readline() or readlines(), this newline character is typically included at the end of each line string. To obtain a list where each element contains only the content of the line without the trailing newline, the rstrip('\\n') method is often applied to each line before appending it to the list. This ensures data consistency and avoids potential issues when processing the lines later."
   ]
  },
  {
   "cell_type": "markdown",
   "id": "56edd8fa-84bb-4a95-9432-3cb49e26c3b2",
   "metadata": {},
   "source": [
    "Q10. How can you append data to an existing file in Python?\n"
   ]
  },
  {
   "cell_type": "markdown",
   "id": "46d33d93-d994-4518-886c-8b323db31c3b",
   "metadata": {},
   "source": [
    "Ans. 1. File Access Modes and the Append Mode ('a'):\n",
    "\n",
    "When a file is opened using the open() function, a specific access mode dictates how the file can be interacted with. The append mode, denoted by the string 'a', is a fundamental concept for adding data to the end of a file. Theoretically, when a file is opened in 'a' mode:\n",
    "* File Pointer Positioning: The operating system's file system interface positions the internal file pointer (which tracks the current position for read/write operations) at the very end of the existing file. This is a crucial distinction from write mode ('w'), which truncates the file to zero length, effectively overwriting any existing content.\n",
    "* Creation if Non-Existent: If the specified file does not exist, the operating system will create a new, empty file. Subsequent write operations will then append to this newly created file (starting from the beginning in this initial empty state).\n",
    "\n",
    "2. Sequential Write Operations:\n",
    "\n",
    "Appending inherently involves sequential write operations at the end of the file. When the write() or writelines() methods of the file object are called after opening the file in append mode, the data provided is written to the file stream starting from the current position of the file pointer (which, as established, is at the end). Each subsequent write operation will continue from the new end of the file, thus adding data sequentially without affecting the previously written content.\n",
    "\n",
    "3. File I/O Stream and Buffering:\n",
    "\n",
    "The file object in Python represents a buffered stream connected to the underlying file on the operating system. Write operations might not directly translate to immediate writes to the physical disk. Instead, data is often accumulated in a buffer and flushed to disk periodically or when the file is closed. The with statement plays a vital role here by ensuring that the buffer is properly flushed and the file is closed, guaranteeing that the appended data is persisted to the file system.\n",
    "\n",
    "4. Context Management and Resource Handling:\n",
    "\n",
    "The with open(...) as file: construct leverages the Context Management Protocol (via __enter__() and __exit__() methods of the file object). While the primary action upon entering in append mode is positioning the file pointer, the crucial theoretical aspect is the guaranteed execution of the __exit__() method. This ensures that the file is properly closed, flushing any remaining buffered data and releasing the system resources associated with the open file, even if errors occur during the append operation. This prevents data loss and ensures file integrity.\n",
    "\n",
    "In essence, the theory behind appending data to a file in Python centers on the operating system's ability to open a file in a specific mode ('a') that strategically positions the file pointer at the end. Subsequent write operations then extend the file sequentially from this point. The with statement provides a robust mechanism for managing the file resource, ensuring that the append operation is completed and the file is properly closed, maintaining data integrity and system resource management."
   ]
  },
  {
   "cell_type": "markdown",
   "id": "f8d37d21-b0dd-4faf-abc5-96ce30b8434f",
   "metadata": {},
   "source": [
    "Q11. Write a Python program that uses a try-except block to handle an error when attempting to access a\n",
    "dictionary key that doesn't exist."
   ]
  },
  {
   "cell_type": "markdown",
   "id": "95d30abc-f775-4966-a2a7-3cce33abf70d",
   "metadata": {},
   "source": [
    "Ans. 1. Exception Handling:\n",
    "\n",
    "Python's exception handling mechanism, implemented through try, except, else, and finally blocks, provides a structured way to deal with runtime errors (exceptions) that might occur during program execution. The core idea is to separate the code that might raise an error (the try block) from the code that handles the error if it occurs (the except block). This prevents program termination due to unexpected issues and allows for more robust and graceful error management.\n",
    "\n",
    "2. Dictionary Key Access and KeyError:\n",
    "\n",
    "Dictionaries in Python are unordered collections of key-value pairs. Accessing a value associated with a specific key is done using square bracket notation (e.g., my_dict[key]). However, this direct access assumes that the key exists within the dictionary. If the specified key is not found in the dictionary, Python raises a built-in exception called KeyError.\n",
    "\n",
    "3. The Role of try-except in Handling KeyError:\n",
    "\n",
    "The try-except block provides a mechanism to intercept and handle this KeyError specifically:\n",
    "* try Block: The code that attempts to access the dictionary key (value = data_dict[key]) is placed inside the try block. This signals to the Python interpreter that this particular line of code might potentially raise an exception (in this case, a KeyError).\n",
    "* except KeyError: Block: The except KeyError: block immediately follows the try block. This block is specifically designed to catch KeyError exceptions. If a KeyError is raised within the try block, the normal flow of execution within the try block is interrupted, and the code within the corresponding except KeyError: block is executed.\n",
    "* Graceful Error Management: By catching the KeyError, the program avoids its default behavior of terminating abruptly and printing an unhandled exception traceback. Instead, the code within the except block is executed, allowing the program to handle the error in a more controlled way, such as printing a user-friendly error message or taking alternative actions."
   ]
  },
  {
   "cell_type": "markdown",
   "id": "b09adb69-25fc-421a-878d-c44316a4d54f",
   "metadata": {},
   "source": [
    "Q12.  Write a program that demonstrates using multiple except blocks to handle different types of exceptions.\n"
   ]
  },
  {
   "cell_type": "code",
   "execution_count": null,
   "id": "45af6431-3e41-4436-ae47-71a145eb2734",
   "metadata": {},
   "outputs": [],
   "source": [
    "def perform_operations(input_value):\n",
    "    \"\"\"\n",
    "    Performs different operations that might raise various exceptions.\n",
    "\n",
    "    Args:\n",
    "        input_value: An input that will be used in different operations.\n",
    "    \"\"\"\n",
    "    try:\n",
    "        # Operation 1: Potential ValueError\n",
    "        number = int(input_value)\n",
    "        print(f\"Successfully converted '{input_value}' to integer: {number}\")\n",
    "\n",
    "        # Operation 2: Potential ZeroDivisionError\n",
    "        result = 10 / number\n",
    "        print(f\"Result of division: {result}\")\n",
    "\n",
    "        # Operation 3: Potential IndexError\n",
    "        my_list = [1, 2, 3]\n",
    "        print(f\"Accessing element at index {number}: {my_list[number]}\")\n",
    "\n",
    "    except ValueError:\n",
    "        print(f\"Error: Invalid input '{input_value}'. Please enter an integer.\")\n",
    "    except ZeroDivisionError:\n",
    "        print(\"Error: Cannot divide by zero.\")\n",
    "    except IndexError:\n",
    "        print(f\"Error: Index {number} is out of bounds for the list.\")\n",
    "    except Exception as e:\n",
    "        # Catch any other unexpected exceptions\n",
    "        print(f\"An unexpected error occurred: {e}\")\n",
    "    else:\n",
    "        print(\"All operations completed successfully.\")\n",
    "    finally:\n",
    "        print(\"Execution of perform_operations finished.\")\n",
    "\n",
    "# Example calls with different inputs to trigger different exceptions:\n",
    "perform_operations(\"10\")      # No exception\n",
    "perform_operations(\"abc\")     # ValueError\n",
    "perform_operations(\"0\")       # ZeroDivisionError\n",
    "perform_operations(\"5\")       # IndexError\n",
    "perform_operations(None)    # Might raise a TypeError during int() conversion, caught by Exception"
   ]
  },
  {
   "cell_type": "markdown",
   "id": "e3087c21-0f51-459f-aa5e-5c396755e33d",
   "metadata": {},
   "source": [
    "Q13. How would you check if a file exists before attempting to read it in Python?\n"
   ]
  },
  {
   "cell_type": "markdown",
   "id": "87b854f0-0072-47f1-bd24-392b56241b51",
   "metadata": {},
   "source": [
    "Ans. 1. File System Abstraction:\n",
    "\n",
    "Python's file I/O operations interact with the underlying operating system's file system. When you attempt to open a file for reading, the operating system tries to locate the file based on the provided path. If the file does not exist at that path, the operating system signals this failure back to the Python interpreter in the form of a FileNotFoundError exception.\n",
    "\n",
    "2. Error Prevention and Exception Handling:\n",
    "\n",
    "Attempting to perform an operation on a non-existent resource is a common source of errors in software. In the context of file reading, encountering a FileNotFoundError can lead to program termination if the exception is not handled. Checking for the file's existence before attempting to open it is a proactive approach to error prevention. By verifying the file's presence, the program can execute alternative logic (e.g., displaying an error message, prompting the user for a different file, creating the file if appropriate) instead of crashing.\n",
    "\n",
    "3. Robust Program Design:\n",
    "\n",
    "A well-designed program anticipates potential issues and handles them gracefully. Checking for file existence contributes to the robustness of the program by:\n",
    "* Preventing Unexpected Termination: Handling the case where a file is missing ensures that the program doesn't halt abruptly.\n",
    "* Providing Meaningful Feedback: Instead of a raw traceback, the program can provide informative messages to the user about the missing file.\n",
    "* Enabling Conditional Execution: The check allows the program to follow different execution paths based on whether the file exists or not, making the program more adaptable.\n",
    "\n",
    "4. Operating System Interaction (Implicit):\n",
    "\n",
    "The functions used for checking file existence (os.path.exists(), os.path.isfile(), pathlib.Path().exists(), pathlib.Path().is_file()) internally interact with the operating system's file system API. These functions query the file system metadata for the given path to determine if a file or directory exists at that location. The result (True or False) is then returned to the Python program.\n",
    "\n",
    "5. Principle of Least Astonishment:\n",
    "\n",
    "From a software design perspective, it aligns with the principle of least astonishment. If a program attempts to read a file that doesn't exist without any prior check, the resulting FileNotFoundError might be unexpected by a user who isn't familiar with the underlying file system operations. Explicitly checking for the file's existence and providing a clear message makes the program's behavior more predictable and understandable."
   ]
  },
  {
   "cell_type": "markdown",
   "id": "361df3f9-33b7-458f-9102-63afd1129aaf",
   "metadata": {},
   "source": [
    "Q14. Write a program that uses the logging module to log both informational and error messages.\n"
   ]
  },
  {
   "cell_type": "markdown",
   "id": "ef4826df-2640-44c0-bfbf-341c8e43a447",
   "metadata": {},
   "source": [
    "Ans. 1. Structured Logging:\n",
    "\n",
    "The logging module promotes structured logging, which means that log messages are not just plain text but contain metadata that provides context and allows for easier analysis and filtering. This structure is achieved through the use of format strings (specified in logging.basicConfig or through logging.Formatter objects) that can include various attributes of the log event, such as:\n",
    "* Timestamp (asctime): When the log record was created.\n",
    "* Severity Level (levelname): The importance or type of the logged event (e.g., INFO, ERROR).\n",
    "* Logger Name (name): The name of the logger that emitted the record.\n",
    "* Message (message): The actual textual content of the log.\n",
    "* Source Information (filename, lineno, funcName): Details about where in the code the log originated.\n",
    "This structured approach allows for programmatic processing of logs, making it easier to search, filter, and analyze log data for debugging, monitoring, and auditing purposes.\n",
    "\n",
    "2. Severity Levels:\n",
    "\n",
    "The logging module employs a hierarchy of severity levels to categorize log messages based on their importance and impact:\n",
    "* DEBUG: Detailed information, typically of interest only when diagnosing problems.\n",
    "* INFO: Confirmation that things are working as expected.\n",
    "* WARNING: An indication that something unexpected happened, or indicative of some problem in the near future (e.g., ‘disk space low’). The software is still working as expected.\n",
    "* ERROR: Due to a more serious problem, the software has not been able to perform some function.\n",
    "* CRITICAL: A serious error, indicating that the program itself may be unable to continue running.1\n",
    "\n",
    "3. Separation of Concerns:\n",
    "\n",
    "The logging module promotes the separation of concerns by decoupling the act of generating log messages from the way those mes and can more effectively diagnose and resolve issues.and can more effectively diagnose and resolve issues.ages are handled and formatted. Different parts of the application can emit log records without needing to know where those logs will be outputted (console, file, network, etc.) or in what format. This is achieved through the use of handlers, which are responsible for directing log records to specific output destinations, and formatters, which define the structure of the log messages.\n",
    "The basic configuration using logging.basicConfig() provides a simple way to set up a default handler (typically a StreamHandler for console output or a FileHandler for file output) and a default formatter. More complex logging setups can involve multiple loggers, handlers, and formatters, allowing for sophisticated routing and processing of log messages based on logger names, severity levels, and other criteria.\n",
    "\n",
    "4. Error Tracking and Debugging:\n",
    "\n",
    "For error messages specifically (logging.error(), logging.critical()), the logging module provides a standardized way to record when and where errors occur, along with contextual information (the error message itself and potentially exception details). This is invaluable for error tracking during runtime and for debugging issues after they have occurred. Consistent use of error logging helps developers quickly identify the root cause of problems and understand the sequence of events leading up to an error.\n",
    "\n",
    "In essence, the logging module in Python provides a powerful and flexible framework for recording events that occur during the execution of a program. Its theoretical underpinnings lie in the principles of structured data, categorized severity, and decoupled message generation and handling, all aimed at improving the observability, maintainability, and robustness of software applications. By consistently logging informational messages and errors, developers gain valuable insights into the program's behavior and can more effectively diagnose and resolve issues."
   ]
  },
  {
   "cell_type": "markdown",
   "id": "b2774955-5c8f-4ca8-a0b3-bcb35b311d8d",
   "metadata": {},
   "source": [
    "Q15. Write a Python program that prints the content of a file and handles the case when the file is empty.\n",
    " "
   ]
  },
  {
   "cell_type": "code",
   "execution_count": null,
   "id": "574a8a9d-a8a7-4b42-8636-a3c98a38ff9f",
   "metadata": {},
   "outputs": [],
   "source": [
    "def print_file_content(file_path):\n",
    "    \"\"\"\n",
    "    Prints the content of a file. Handles the case where the file is empty.\n",
    "\n",
    "    Args:\n",
    "        file_path (str): The path to the file.\n",
    "    \"\"\"\n",
    "    try:\n",
    "        with open(file_path, 'r') as file:\n",
    "            content = file.read()\n",
    "            if not content:\n",
    "                print(f\"The file '{file_path}' is empty.\")\n",
    "            else:\n",
    "                print(f\"Content of '{file_path}':\")\n",
    "                print(content)\n",
    "    except FileNotFoundError:\n",
    "        print(f\"Error: File not found at '{file_path}'.\")\n",
    "    except IOError:\n",
    "        print(f\"Error: Could not read the file at '{file_path}'.\")\n",
    "\n",
    "# Example usage:\n",
    "# Create an empty file for testing\n",
    "with open(\"empty_file.txt\", 'w') as f:\n",
    "    pass\n",
    "\n",
    "# Create a non-empty file for testing\n",
    "with open(\"non_empty_file.txt\", 'w') as f:\n",
    "    f.write(\"This is some content in the file.\\n\")\n",
    "    f.write(\"Another line of text.\\n\")\n",
    "\n",
    "print_file_content(\"empty_file.txt\")\n",
    "print_file_content(\"non_empty_file.txt\")\n",
    "print_file_content(\"nonexistent_file.txt\")"
   ]
  },
  {
   "cell_type": "markdown",
   "id": "67216bbc-cbbc-4823-8337-fbd9ca473e7c",
   "metadata": {},
   "source": [
    "Q16. Demonstrate how to use memory profiling to check the memory usage of a small program.\n"
   ]
  },
  {
   "cell_type": "markdown",
   "id": "a1294d2b-d2bc-404a-911e-85beddef708e",
   "metadata": {},
   "source": [
    "Ans. 1. Resource Monitoring:\n",
    "\n",
    "At its core, memory profiling is a form of resource monitoring. Operating systems allocate memory to processes for storing data and executing code. Memory profilers act as tools that observe and record how a program utilizes this memory over time and at different points in its execution. This observation relies on the operating system's memory management mechanisms and provides insights into the program's memory footprint.\n",
    "\n",
    "2. Memory Management in Python:\n",
    "\n",
    "Python employs automatic memory management through a garbage collector. This means that developers generally don't need to explicitly allocate or deallocate memory. However, understanding how Python manages memory is crucial for writing efficient programs. Memory profilers help reveal:\n",
    "\n",
    "* Object Allocation: When and where objects are created in memory.\n",
    "* Object Lifespan: How long objects persist in memory.\n",
    "* Memory Leaks (Potential): Situations where objects are no longer needed but are not being garbage collected, leading to increasing memory usage over time.\n",
    "* Inefficient Data Structures or Operations: Code constructs that might create unnecessary copies of data or use more memory than required.\n",
    "By observing memory usage patterns, developers can gain a better understanding of the underlying memory management behavior of their Python code.\n",
    "\n",
    "3. Performance Analysis:\n",
    "\n",
    "Memory usage is a critical aspect of program performance. Excessive memory consumption can lead to:\n",
    "* Slower Execution: If the program requires more memory than is physically available, the operating system might resort to swapping data between RAM and disk, which is significantly slower.\n",
    "* Resource Exhaustion: In resource-constrained environments, high memory usage can lead to program crashes or impact other applications running on the same system.\n",
    "* Scalability Issues: Programs with inefficient memory usage might not scale well when dealing with larger datasets or higher loads.\n",
    "Memory profiling provides data that is essential for performance analysis and optimization. By identifying memory bottlenecks, developers can refactor their code to reduce memory footprint and improve overall performance.\n",
    "\n",
    "4. How Memory Profilers Work (Conceptual):\n",
    "\n",
    "Memory profilers like memory_profiler typically work by:\n",
    "* Sampling: Periodically querying the operating system about the memory usage of the Python process\n",
    "* Instrumentation (in the case of line-by-line profiling): Injecting code (often through decorators or other techniques) to record memory usage at specific points during the execution of functions.\n",
    "* Tracking Object Allocation (less common for simple profilers): More advanced profilers might track the allocation and deallocation of individual objects.\n",
    "  The data collected is then presented to the user in the form of reports (textual or visual), showing memory usage over time or per line of code. The \"increment\" feature highlights the memory allocated by specific operations.\n",
    "\n",
    "\n",
    "\n",
    "\n",
    "\n",
    "\n"
   ]
  },
  {
   "cell_type": "markdown",
   "id": "c51cbee9-6e8a-4488-bdb2-fe46e1fca616",
   "metadata": {},
   "source": [
    "Q17.  What are the common logging levels in Python?\n"
   ]
  },
  {
   "cell_type": "markdown",
   "id": "a085d47f-0972-4183-9770-2b5c515e57e1",
   "metadata": {},
   "source": [
    "Ans. In Python's logging module, there are five common logging levels, each indicating the severity of an event. These levels are:\n",
    "\n",
    "1. DEBUG – Detailed information, typically useful for diagnosing problems and debugging.\n",
    "* Numeric value: 10\n",
    "* Example: \"Variable x has value 10\"\n",
    "\n",
    "2. INFO – General information confirming that things are working as expected.\n",
    "* Numeric value: 20\n",
    "* Example: \"User logged in successfully\"\n",
    "\n",
    "3. WARNING – An indication that something unexpected happened, or might cause a problem in the future.\n",
    "* Numeric value: 30\n",
    "* Example: \"Disk space running low\"\n",
    "\n",
    "4. ERROR – A more serious problem; the program is still running, but something failed.\n",
    "* Numeric value: 40\n",
    "* Example: \"Failed to connect to database\"\n",
    "\n",
    "5. CRITICAL – A very serious error; the program itself may be unable to continue running.\n",
    "* Numeric value: 50\n",
    "* Example: \"System crash – shutting down\"\n"
   ]
  },
  {
   "cell_type": "code",
   "execution_count": 6,
   "id": "92b496fd-f459-4581-8086-2eec9db07d8c",
   "metadata": {},
   "outputs": [
    {
     "name": "stderr",
     "output_type": "stream",
     "text": [
      "DEBUG:root:This is a debug message\n",
      "INFO:root:This is an info message\n"
     ]
    }
   ],
   "source": [
    "import logging\n",
    "\n",
    "logging.basicConfig(level=logging.DEBUG)\n",
    "logging.debug(\"This is a debug message\")\n",
    "logging.info(\"This is an info message\")\n"
   ]
  },
  {
   "cell_type": "markdown",
   "id": "2e14b959-4e64-426a-b6eb-beb51de674b0",
   "metadata": {},
   "source": [
    "Q18. What is the difference between os.fork() and multiprocessing in Python.\n"
   ]
  },
  {
   "cell_type": "markdown",
   "id": "bc4e06ed-1943-4cc2-9e26-e65a2b82fac0",
   "metadata": {},
   "source": [
    "Ans.  os.fork()\n",
    "* What it does: Creates a new child process by duplicating the current process.\n",
    "* Platform: UNIX/Linux only (Not available on Windows).\n",
    "* Low-level: It’s a system call; you get two processes — parent and child.\n",
    "* Usage: Requires manual management of inter-process communication and process lifecycle.\n",
    "* Example:"
   ]
  },
  {
   "cell_type": "code",
   "execution_count": 8,
   "id": "bd509adf-8faa-435a-aa4b-14fbfb006e27",
   "metadata": {},
   "outputs": [
    {
     "ename": "AttributeError",
     "evalue": "module 'os' has no attribute 'fork'",
     "output_type": "error",
     "traceback": [
      "\u001b[1;31m---------------------------------------------------------------------------\u001b[0m",
      "\u001b[1;31mAttributeError\u001b[0m                            Traceback (most recent call last)",
      "Cell \u001b[1;32mIn[8], line 3\u001b[0m\n\u001b[0;32m      1\u001b[0m \u001b[38;5;28;01mimport\u001b[39;00m \u001b[38;5;21;01mos\u001b[39;00m\n\u001b[1;32m----> 3\u001b[0m pid \u001b[38;5;241m=\u001b[39m \u001b[43mos\u001b[49m\u001b[38;5;241;43m.\u001b[39;49m\u001b[43mfork\u001b[49m()  \u001b[38;5;66;03m# This creates a child process.\u001b[39;00m\n\u001b[0;32m      5\u001b[0m \u001b[38;5;28;01mif\u001b[39;00m pid \u001b[38;5;241m==\u001b[39m \u001b[38;5;241m0\u001b[39m:\n\u001b[0;32m      6\u001b[0m     \u001b[38;5;28mprint\u001b[39m(\u001b[38;5;124m\"\u001b[39m\u001b[38;5;124mChild process\u001b[39m\u001b[38;5;124m\"\u001b[39m)\n",
      "\u001b[1;31mAttributeError\u001b[0m: module 'os' has no attribute 'fork'"
     ]
    }
   ],
   "source": [
    "import os\n",
    "\n",
    "pid = os.fork()  # This creates a child process.\n",
    "\n",
    "if pid == 0:\n",
    "    print(\"Child process\")\n",
    "else:\n",
    "    print(\"Parent process\")\n"
   ]
  },
  {
   "cell_type": "markdown",
   "id": "e7b44615-c45a-4b52-81f4-ef14cdfbd996",
   "metadata": {},
   "source": [
    "multiprocessing module\n",
    "* What it does: Provides a high-level API to create and manage multiple processes.\n",
    "* Platform: Cross-platform (Works on Windows, macOS, Linux).\n",
    "* High-level: Easier to use with classes like Process, Queue, Pool.\n",
    "* Built-in communication: Provides mechanisms like Queue, Pipe, and shared memory.\n",
    "* Example:"
   ]
  },
  {
   "cell_type": "code",
   "execution_count": 1,
   "id": "e18614f0-79f4-400d-8264-b8bb4a8acd51",
   "metadata": {},
   "outputs": [],
   "source": [
    "from multiprocessing import Process\n",
    "\n",
    "def worker():\n",
    "    print(\"Child process\")\n",
    "\n",
    "p = Process(target=worker)\n",
    "p.start()\n",
    "p.join()\n"
   ]
  },
  {
   "cell_type": "markdown",
   "id": "7d60a759-dc83-41c9-b4e7-3d7f9e77b99b",
   "metadata": {},
   "source": [
    "Q19. What is the importance of closing a file in Python?\n"
   ]
  },
  {
   "cell_type": "markdown",
   "id": "5910134e-2337-4927-83d0-57ded2d6a2d3",
   "metadata": {},
   "source": [
    "Ans.  1. Releases System Resources\n",
    "* Files take up system resources like memory and file descriptors.\n",
    "* Closing a file frees those resources, especially important in programs that open many files.\n",
    "\n",
    "2. Ensures Data is Written to Disk\n",
    "* When writing to a file, Python may buffer the data.\n",
    "* file.close() flushes the buffer, making sure all data is actually saved to the file.\n",
    "\n",
    " 3. Avoids Data Corruption\n",
    "* Not closing a file properly might leave it in an incomplete or corrupted state, especially during write operations.\n",
    "\n",
    "4. File Locking and Access Issues\n",
    "* Some systems lock files while they’re open.\n",
    "* Not closing the file can prevent other programs from accessing it.\n",
    "\n",
    "5. Good Practice & Clean Code\n",
    "* Explicitly closing files makes your code clean, reliable, and professional."
   ]
  },
  {
   "cell_type": "markdown",
   "id": "581e8da5-86fd-4ee9-b7fa-e2e1082e08d2",
   "metadata": {},
   "source": [
    "Q20. What is the difference between file.read() and file.readline() in Python?\n"
   ]
  },
  {
   "cell_type": "markdown",
   "id": "87f34a11-8062-41f3-8ff5-d3d72d993b9a",
   "metadata": {},
   "source": [
    "Ans. Both methods are used to read from a file, but they work differently:\n",
    "\n",
    "- file.read()\n",
    "   * Reads the entire file (or a specified number of characters) into a single string.\n",
    "   * Good for: Reading all contents at once.\n",
    "\n",
    "- file.readline()\n",
    "    * Reads one line at a time from the file.\n",
    "    * Includes the newline character \\n at the end (if present).\n",
    "    * Good for: Processing the file line-by-line (especially large files).\n",
    "\n"
   ]
  },
  {
   "cell_type": "markdown",
   "id": "1eac8c2b-77ac-47f8-bcc9-fe1cdaf34847",
   "metadata": {},
   "source": [
    "Q21.  What is the logging module in Python used for?\n"
   ]
  },
  {
   "cell_type": "markdown",
   "id": "7307302e-5774-49af-8520-a69400089939",
   "metadata": {},
   "source": [
    "Ans. The logging module in Python is used to track events that happen while the program is running. It’s super useful for:\n",
    "\n",
    " 1. Debugging\n",
    "* Helps you understand what your code is doing, especially when something goes wrong.\n",
    "\n",
    " 2. Monitoring\n",
    "* Records information about the application's behavior over time.\n",
    "\n",
    " 3. Error Reporting\n",
    "* Captures errors and exceptions to logs instead of just printing them.\n",
    "\n",
    " 4. Auditing\n",
    "* Tracks user actions or system activity for security or compliance.\n",
    "\n"
   ]
  },
  {
   "cell_type": "markdown",
   "id": "cca99f6e-6bfa-424a-a86c-3e0ba03902fd",
   "metadata": {},
   "source": [
    "Q22. What is the os module in Python used for in file handling?\n"
   ]
  },
  {
   "cell_type": "markdown",
   "id": "66ebc868-5533-48c8-b1ad-59297690cd98",
   "metadata": {},
   "source": [
    "Ans. The os module in Python is used to interact with the operating system and provides a way to perform various file and directory-related operations. It allows programmers to perform tasks such as creating, deleting, and renaming files and directories, as well as navigating the file system.\n",
    "\n",
    "In the context of file handling, the os module is important because it enables:\n",
    "\n",
    "1. Accessing file paths and directories – such as getting the current working directory or changing it.\n",
    "\n",
    "2. Creating and removing directories – with functions like os.mkdir() and os.rmdir().\n",
    "\n",
    "3. Renaming and deleting files – using os.rename() and os.remove().\n",
    "\n",
    "4. Checking file or directory existence – using os.path.exists() and similar functions.\n",
    "\n",
    "5. Listing files in a directory – using os.listdir().\n",
    "\n",
    "Overall, the os module plays a crucial role in file handling by allowing Python programs to interact with the file system in a flexible and platform-independent way."
   ]
  },
  {
   "cell_type": "markdown",
   "id": "80fa38b9-6ab8-41c1-a621-99a67b84862c",
   "metadata": {},
   "source": [
    "Q23. What are the challenges associated with memory management in Python?\n"
   ]
  },
  {
   "cell_type": "markdown",
   "id": "ea1b7ac4-5090-4d20-a900-f6ea749038ed",
   "metadata": {},
   "source": [
    "Ans. Memory management in Python is mostly handled by its built-in garbage collector, but there are still several challenges that developers need to be aware of:\n",
    "\n",
    "1. Memory Leaks\n",
    "* Even though Python has automatic garbage collection, memory leaks can occur.\n",
    "* Cause: Unused objects are still referenced (e.g., in global variables, closures, or data structures), preventing garbage collection.\n",
    "\n",
    "2. Circular References\n",
    "* Objects referring to each other can form a cycle (e.g., A → B → A), which can delay or prevent memory from being freed.\n",
    "* Python’s garbage collector can handle this, but it’s not perfect and may need manual intervention.\n",
    "\n",
    "3. High Memory Usage\n",
    "* Python is a high-level language and uses more memory than lower-level languages like C.\n",
    "* Large data structures (like lists, dictionaries) can consume a lot of memory if not managed properly.\n",
    "\n",
    "4. Inefficient Object Reuse\n",
    "* Creating and destroying many small objects repeatedly can lead to memory fragmentation.\n",
    "* Better performance can often be achieved by reusing objects when possible.\n",
    "\n",
    "5. Global Interpreter Lock (GIL) Limitation\n",
    "* Though not directly a memory issue, Python’s GIL can affect multi-threaded memory sharing.\n",
    "* Only one thread executes Python bytecode at a time, limiting memory access optimization in multi-core systems.\n",
    "\n",
    " 6. Manual Memory Management Limitations\n",
    "* Python does not give direct access to memory allocation and deallocation, which limits control in performance-critical applications.\n",
    "\n"
   ]
  },
  {
   "cell_type": "markdown",
   "id": "82c215cc-10f0-4165-92d6-f17c98d4dade",
   "metadata": {},
   "source": [
    "Q24. How do you raise an exception manually in Python?\n"
   ]
  },
  {
   "cell_type": "markdown",
   "id": "2e1c0dd2-2382-4c46-98de-e2ca790995f0",
   "metadata": {
    "jp-MarkdownHeadingCollapsed": true
   },
   "source": [
    "Ans. In Python, you can raise an exception manually using the raise statement. This allows you to trigger an error condition in your program and control when and how an exception is raised.\n",
    "\n",
    "When raising an exception, you can specify:\n",
    "\n",
    "1. The type of exception (such as ValueError, TypeError, or a custom exception).\n",
    "\n",
    "2. An optional error message that describes the issue more clearly.\n",
    "\n",
    "* Raising Built-in Exceptions:\n",
    "You can raise built-in exceptions such as ValueError, TypeError, etc., when you detect an error or an invalid condition in your code.\n",
    "\n",
    "* Raising Custom Exceptions:\n",
    "You can also define your own custom exceptions by creating a new class that inherits from Python's built-in Exception class. This allows you to raise exceptions that are specific to your program’s needs\n"
   ]
  },
  {
   "cell_type": "markdown",
   "id": "6a4203ad-c1db-4aa2-b25b-630766a5a7aa",
   "metadata": {},
   "source": [
    "Q25. Why is it important to use multithreading in certain applications?"
   ]
  },
  {
   "cell_type": "markdown",
   "id": "4fd3def4-25ef-48ae-8cab-a99302d81ce3",
   "metadata": {},
   "source": [
    "Ans. Multithreading is an important technique used in programming to achieve concurrent execution, where multiple threads run independently within a single process. It’s particularly useful for certain applications due to several key benefits:\n",
    "\n",
    " 1. Improved Performance in I/O-bound Tasks\n",
    "* I/O-bound tasks are those that spend a significant amount of time waiting for input/output operations, such as reading from a disk, network requests, or user interactions.\n",
    "* Multithreading allows other threads to execute while one thread waits for I/O operations, improving the overall performance and responsiveness of the application.\n",
    "   * Example: A web server can handle multiple user requests at once, improving response times.\n",
    "\n",
    " 2. Better Resource Utilization\n",
    "* Multithreading can make better use of CPU resources. Even in single-core systems, threads can be scheduled to run while others are waiting for I/O, leading to better CPU utilization.\n",
    "* On multi-core processors, threads can run simultaneously on different cores, utilizing the system's resources more efficiently.\n",
    "\n",
    "3. Increased Responsiveness\n",
    "* Multithreading helps maintain application responsiveness by allowing tasks to be performed in the background.\n",
    "   * Example: In a graphical user interface (GUI) application, one thread can handle user input while another performs long-running tasks, preventing the application from freezing or becoming unresponsive.\n",
    " \n",
    "4. Real-time Processing\n",
    "* Multithreading is beneficial in applications that require real-time processing, where different threads can handle tasks simultaneously, ensuring that critical tasks are handled in a timely manner.\n",
    "   * Example: Video streaming, where one thread handles data retrieval while another handles video rendering and playback.\n",
    " \n",
    " 5. Simplifies Concurrent Execution\n",
    "* In cases where tasks need to be done concurrently but not necessarily in parallel, multithreading simplifies the design of the application, allowing multiple activities to proceed at the same time within the same process.\n",
    "   * Example: A data processing application that reads and processes multiple files simultaneously, reducing overall execution time.\n",
    "\n"
   ]
  },
  {
   "cell_type": "markdown",
   "id": "69de98a9-8a52-460e-a905-ad94246151d0",
   "metadata": {},
   "source": [
    "# Practical question "
   ]
  },
  {
   "cell_type": "markdown",
   "id": "9f7c9aa2-45d0-4d48-8c8e-67882b37edc3",
   "metadata": {},
   "source": [
    "Q1.How can you open a file for writing in Python and write a string to it?\n"
   ]
  },
  {
   "cell_type": "markdown",
   "id": "4f0ba2ef-a0f6-4631-9ba7-4a0784cc4352",
   "metadata": {},
   "source": [
    "Ans. Steps:\n",
    "1. Use open(): Open the file in write mode ('w') or append mode ('a') depending on your needs.\n",
    "2. Write to the file: Use the write() method to write a string to the file.\n",
    "3. Close the file: Always close the file to ensure changes are saved and resources are released.\n",
    "\n"
   ]
  },
  {
   "cell_type": "code",
   "execution_count": 4,
   "id": "2eeee808-d8b1-47b4-be42-0545ecfd788a",
   "metadata": {},
   "outputs": [],
   "source": [
    "# Open the file in write mode ('w') to create it or overwrite it if it already exists\n",
    "with open(\"example.txt\", \"w\") as file:\n",
    "    file.write(\"Hello, world!\")\n"
   ]
  },
  {
   "cell_type": "markdown",
   "id": "0cc6d409-c2ba-4d8b-a529-17d040512b36",
   "metadata": {},
   "source": [
    "Q2. Write a Python program to read the contents of a file and print each line.\n"
   ]
  },
  {
   "cell_type": "code",
   "execution_count": 5,
   "id": "ef595f06-4bf8-4c82-837e-47907549d40c",
   "metadata": {},
   "outputs": [
    {
     "name": "stdout",
     "output_type": "stream",
     "text": [
      "Hello, world!"
     ]
    }
   ],
   "source": [
    "# Open the file in read mode ('r')\n",
    "with open(\"example.txt\", \"r\") as file:\n",
    "    # Iterate over each line in the file\n",
    "    for line in file:\n",
    "        print(line, end=\"\")  # Print each line without adding an extra newline\n"
   ]
  },
  {
   "cell_type": "markdown",
   "id": "27877055-02c0-4ea1-be57-9cc5a4e374d5",
   "metadata": {},
   "source": [
    "Q3.  How would you handle a case where the file doesn't exist while trying to open it for reading.\n"
   ]
  },
  {
   "cell_type": "code",
   "execution_count": 6,
   "id": "7d453141-c499-41d3-9fd5-b0033bb6c733",
   "metadata": {},
   "outputs": [
    {
     "name": "stdout",
     "output_type": "stream",
     "text": [
      "Hello, world!"
     ]
    }
   ],
   "source": [
    "try:\n",
    "    # Attempt to open the file in read mode ('r')\n",
    "    with open(\"example.txt\", \"r\") as file:\n",
    "        # If successful, print the contents\n",
    "        for line in file:\n",
    "            print(line, end=\"\")\n",
    "except FileNotFoundError:\n",
    "    # Handle the case where the file doesn't exist\n",
    "    print(\"Error: The file 'example.txt' does not exist.\")\n"
   ]
  },
  {
   "cell_type": "markdown",
   "id": "04ede20f-7b59-4f16-93c4-5977d6a5bc66",
   "metadata": {},
   "source": [
    "Q4. Write a Python script that reads from one file and writes its content to another file.\n"
   ]
  },
  {
   "cell_type": "code",
   "execution_count": 2,
   "id": "13998883-ff1e-4e98-812e-4b6ec72e15de",
   "metadata": {},
   "outputs": [],
   "source": [
    "# Open the source file in read mode ('r')\n",
    "with open(\"source.txt\", \"r\") as source_file:\n",
    "    # Open the destination file in write mode ('w')\n",
    "    with open(\"destination.txt\", \"w\") as dest_file:\n",
    "        # Read the content of the source file and write it to the destination file\n",
    "        for line in source_file:\n",
    "            dest_file.write(line)\n",
    "\n",
    "print(\"Content has been successfully copied from source.txt to destination.txt\")\n"
   ]
  },
  {
   "cell_type": "markdown",
   "id": "8e6e2fcb-6565-48f6-9953-4baf70dd71f5",
   "metadata": {},
   "source": [
    "Q5. How would you catch and handle division by zero error in Python.\n"
   ]
  },
  {
   "cell_type": "code",
   "execution_count": 3,
   "id": "61cec159-d1b4-46cc-9f40-9475cf063616",
   "metadata": {},
   "outputs": [
    {
     "name": "stdout",
     "output_type": "stream",
     "text": [
      "Error: Division by zero is not allowed.\n"
     ]
    }
   ],
   "source": [
    "try:\n",
    "    # Attempt to divide two numbers\n",
    "    numerator = 10\n",
    "    denominator = 0\n",
    "    result = numerator / denominator\n",
    "    print(\"Result:\", result)\n",
    "except ZeroDivisionError:\n",
    "    # Handle the case where division by zero occurs\n",
    "    print(\"Error: Division by zero is not allowed.\")\n",
    "\n"
   ]
  },
  {
   "cell_type": "markdown",
   "id": "1c4be6d1-65a9-4e19-b2bd-e18b2b1bef3a",
   "metadata": {},
   "source": [
    "Q6.  Write a Python program that logs an error message to a log file when a division by zero exception occurs.\n"
   ]
  },
  {
   "cell_type": "code",
   "execution_count": 4,
   "id": "2241783d-f0d2-4e99-b515-a6fd8547f132",
   "metadata": {},
   "outputs": [
    {
     "name": "stdout",
     "output_type": "stream",
     "text": [
      "Error: Division by zero occurred. Check the log file for details.\n"
     ]
    }
   ],
   "source": [
    "import logging\n",
    "\n",
    "# Configure the logging system\n",
    "logging.basicConfig(filename='error_log.txt', \n",
    "                    level=logging.ERROR, \n",
    "                    format='%(asctime)s - %(levelname)s - %(message)s')\n",
    "\n",
    "try:\n",
    "    # Attempt to divide two numbers\n",
    "    numerator = 10\n",
    "    denominator = 0\n",
    "    result = numerator / denominator\n",
    "    print(\"Result:\", result)\n",
    "except ZeroDivisionError as e:\n",
    "    # Log the error message to the log file\n",
    "    logging.error(f\"Division by zero error: {e}\")\n",
    "    print(\"Error: Division by zero occurred. Check the log file for details.\")\n"
   ]
  },
  {
   "cell_type": "markdown",
   "id": "32fab015-ae27-4b15-9ca1-2029ce5365a5",
   "metadata": {},
   "source": [
    "Q7. How do you log information at different levels (INFO, ERROR, WARNING) in Python using the logging module.\n"
   ]
  },
  {
   "cell_type": "code",
   "execution_count": 6,
   "id": "6ad586b0-d813-4de8-8fad-7984604b14e1",
   "metadata": {},
   "outputs": [],
   "source": [
    "import logging\n",
    "\n",
    "# Configure the logging system\n",
    "logging.basicConfig(filename='app_log.txt', \n",
    "                    level=logging.DEBUG,  # Log all messages of level DEBUG and above\n",
    "                    format='%(asctime)s - %(levelname)s - %(message)s')\n",
    "\n",
    "# Log messages at different levels\n",
    "logging.debug(\"This is a debug message\")   # For debugging information\n",
    "logging.info(\"This is an info message\")    # General information\n",
    "logging.warning(\"This is a warning message\")  # A potential issue\n",
    "logging.error(\"This is an error message\")   # An error that prevents completion\n",
    "logging.critical(\"This is a critical message\")  # A serious error causing a shutdown\n"
   ]
  },
  {
   "cell_type": "markdown",
   "id": "fd6f0cbf-30b7-4e31-85f0-d9439136829b",
   "metadata": {},
   "source": [
    "Q8. Write a program to handle a file opening error using exception handling.\n"
   ]
  },
  {
   "cell_type": "code",
   "execution_count": 7,
   "id": "34f4901b-8a32-4122-bc8f-6c25f155e2e5",
   "metadata": {},
   "outputs": [
    {
     "name": "stdout",
     "output_type": "stream",
     "text": [
      "Error: The file does not exist.\n"
     ]
    }
   ],
   "source": [
    "try:\n",
    "    # Attempt to open the file in read mode ('r')\n",
    "    with open(\"non_existent_file.txt\", \"r\") as file:\n",
    "        # If the file opens successfully, read and print its contents\n",
    "        content = file.read()\n",
    "        print(content)\n",
    "except FileNotFoundError:\n",
    "    # Handle the case where the file is not found\n",
    "    print(\"Error: The file does not exist.\")\n",
    "except PermissionError:\n",
    "    # Handle the case where the file exists but you don't have permission to open it\n",
    "    print(\"Error: You do not have permission to access the file.\")\n",
    "except Exception as e:\n",
    "    # Handle any other unexpected errors\n",
    "    print(f\"An unexpected error occurred: {e}\")\n"
   ]
  },
  {
   "cell_type": "markdown",
   "id": "c3813ebf-6003-4e30-aa68-ba72f2f09275",
   "metadata": {},
   "source": [
    "Q9. How can you read a file line by line and store its content in a list in Python.\n"
   ]
  },
  {
   "cell_type": "markdown",
   "id": "bbf90fcf-80e8-4b17-9482-d9a189946bfd",
   "metadata": {},
   "source": [
    "Ans. Method 1: Using readlines() "
   ]
  },
  {
   "cell_type": "code",
   "execution_count": 8,
   "id": "116e7a3e-eef2-4cf2-9b60-cf41a7fb8875",
   "metadata": {},
   "outputs": [
    {
     "name": "stdout",
     "output_type": "stream",
     "text": [
      "['Hello, world!']\n"
     ]
    }
   ],
   "source": [
    "with open(\"example.txt\", \"r\") as file:\n",
    "    lines = file.readlines()\n",
    "\n",
    "print(lines)\n"
   ]
  },
  {
   "cell_type": "markdown",
   "id": "82438943-494e-4e48-bdcb-d1d76bc5a6fa",
   "metadata": {},
   "source": [
    "Method 2: Using a loop and append()\n"
   ]
  },
  {
   "cell_type": "code",
   "execution_count": 9,
   "id": "cbe8dfcd-6270-491f-aa83-054983ea57e3",
   "metadata": {},
   "outputs": [
    {
     "name": "stdout",
     "output_type": "stream",
     "text": [
      "['Hello, world!']\n"
     ]
    }
   ],
   "source": [
    "lines = []\n",
    "with open(\"example.txt\", \"r\") as file:\n",
    "    for line in file:\n",
    "        lines.append(line.strip())  # removes newline characters\n",
    "\n",
    "print(lines)\n"
   ]
  },
  {
   "cell_type": "markdown",
   "id": "be3080a7-5657-459b-8439-070d47c620b3",
   "metadata": {},
   "source": [
    "Q10. How can you append data to an existing file in Python.\n"
   ]
  },
  {
   "cell_type": "code",
   "execution_count": 10,
   "id": "e29b61ce-9636-403b-b58c-e2e3c32bf0bd",
   "metadata": {},
   "outputs": [],
   "source": [
    "with open(\"filename.txt\", \"a\") as file:\n",
    "    file.write(\"This is the new data.\\n\")\n"
   ]
  },
  {
   "cell_type": "markdown",
   "id": "de9c02c2-3fbe-46c5-aac9-6f795e0061e0",
   "metadata": {},
   "source": [
    "Q11. Write a Python program that uses a try-except block to handle an error when attempting to access a\n",
    "dictionary key that doesn't exist."
   ]
  },
  {
   "cell_type": "code",
   "execution_count": 11,
   "id": "6b284d57-6c0a-41cf-bf0e-d65befde531c",
   "metadata": {},
   "outputs": [
    {
     "name": "stdout",
     "output_type": "stream",
     "text": [
      "Error: The key 'David' does not exist in the dictionary.\n"
     ]
    }
   ],
   "source": [
    "# Define a dictionary\n",
    "student_marks = {\n",
    "    \"Alice\": 85,\n",
    "    \"Bob\": 90,\n",
    "    \"Charlie\": 78\n",
    "}\n",
    "\n",
    "try:\n",
    "    # Try to access a key that might not exist\n",
    "    print(\"Marks of David:\", student_marks[\"David\"])\n",
    "except KeyError:\n",
    "    # Handle the KeyError\n",
    "    print(\"Error: The key 'David' does not exist in the dictionary.\")\n"
   ]
  },
  {
   "cell_type": "markdown",
   "id": "c1368719-539a-408f-aeb2-cf75e35c3382",
   "metadata": {},
   "source": [
    "Q12. Write a program that demonstrates using multiple except blocks to handle different types of exceptions.\n",
    " "
   ]
  },
  {
   "cell_type": "code",
   "execution_count": 12,
   "id": "a9147a33-8459-4c24-bd70-752252d1bd1a",
   "metadata": {},
   "outputs": [
    {
     "name": "stdin",
     "output_type": "stream",
     "text": [
      "Enter a number:  10\n",
      "Enter another number:  0\n"
     ]
    },
    {
     "name": "stdout",
     "output_type": "stream",
     "text": [
      "Error: Cannot divide by zero.\n"
     ]
    }
   ],
   "source": [
    "try:\n",
    "    # Input from user\n",
    "    num1 = int(input(\"Enter a number: \"))\n",
    "    num2 = int(input(\"Enter another number: \"))\n",
    "\n",
    "    # Division operation\n",
    "    result = num1 / num2\n",
    "    print(\"Result:\", result)\n",
    "\n",
    "except ZeroDivisionError:\n",
    "    print(\"Error: Cannot divide by zero.\")\n",
    "\n",
    "except ValueError:\n",
    "    print(\"Error: Invalid input. Please enter a valid number.\")\n",
    "\n",
    "except Exception as e:\n",
    "    print(\"An unexpected error occurred:\", e)\n"
   ]
  },
  {
   "cell_type": "markdown",
   "id": "82fbc27a-d367-4e9b-8c73-84452c3f88c9",
   "metadata": {},
   "source": [
    "Q13.How would you check if a file exists before attempting to read it in Python.\n"
   ]
  },
  {
   "cell_type": "markdown",
   "id": "4246e6ee-d334-4ea0-9676-26313ca97e12",
   "metadata": {},
   "source": [
    "Ans. Method 1: Using os.path.exists()"
   ]
  },
  {
   "cell_type": "code",
   "execution_count": 13,
   "id": "e679fe74-34f8-483e-acb5-7622ce51f366",
   "metadata": {},
   "outputs": [
    {
     "name": "stdout",
     "output_type": "stream",
     "text": [
      "Hello, world!\n"
     ]
    }
   ],
   "source": [
    "import os\n",
    "\n",
    "file_path = \"example.txt\"\n",
    "\n",
    "if os.path.exists(file_path):\n",
    "    with open(file_path, \"r\") as file:\n",
    "        content = file.read()\n",
    "        print(content)\n",
    "else:\n",
    "    print(\"File does not exist.\")\n"
   ]
  },
  {
   "cell_type": "markdown",
   "id": "f9de6f18-23b7-4ec3-838e-f572f6b0677e",
   "metadata": {},
   "source": [
    "Method 2: Using pathlib.Path.exists()"
   ]
  },
  {
   "cell_type": "code",
   "execution_count": 14,
   "id": "bf619c6a-a804-4f07-bcf8-a8173ac3a820",
   "metadata": {},
   "outputs": [
    {
     "name": "stdout",
     "output_type": "stream",
     "text": [
      "Hello, world!\n"
     ]
    }
   ],
   "source": [
    "from pathlib import Path\n",
    "\n",
    "file_path = Path(\"example.txt\")\n",
    "\n",
    "if file_path.exists():\n",
    "    with open(file_path, \"r\") as file:\n",
    "        content = file.read()\n",
    "        print(content)\n",
    "else:\n",
    "    print(\"File does not exist.\")\n"
   ]
  },
  {
   "cell_type": "markdown",
   "id": "0a8fe166-e8f8-425b-9228-e48cd1d32818",
   "metadata": {},
   "source": [
    "Q14. Write a program that uses the logging module to log both informational and error messages.\n"
   ]
  },
  {
   "cell_type": "code",
   "execution_count": 15,
   "id": "5b51cbfc-1698-409b-871f-2479648b6cf5",
   "metadata": {},
   "outputs": [],
   "source": [
    "import logging\n",
    "\n",
    "# Configure the logging system\n",
    "logging.basicConfig(\n",
    "    filename='app.log',           # Log messages will be saved in this file\n",
    "    level=logging.DEBUG,          # Set the minimum logging level\n",
    "    format='%(asctime)s - %(levelname)s - %(message)s'\n",
    ")\n",
    "\n",
    "# Logging informational message\n",
    "logging.info(\"This is an informational message.\")\n",
    "\n",
    "# Simulate an error and log it\n",
    "try:\n",
    "    result = 10 / 0\n",
    "except ZeroDivisionError:\n",
    "    logging.error(\"Error occurred: Division by zero.\")\n"
   ]
  },
  {
   "cell_type": "markdown",
   "id": "dd9be073-8db2-46f1-9668-c0518a24f5d8",
   "metadata": {},
   "source": [
    "Q15. Write a Python program that prints the content of a file and handles the case when the file is empty.\n"
   ]
  },
  {
   "cell_type": "code",
   "execution_count": 16,
   "id": "05f11876-6ae4-47de-93dc-6673e6c5a8fe",
   "metadata": {},
   "outputs": [
    {
     "name": "stdout",
     "output_type": "stream",
     "text": [
      "File content:\n",
      "Hello, world!\n"
     ]
    }
   ],
   "source": [
    "try:\n",
    "    # Open the file in read mode\n",
    "    with open(\"example.txt\", \"r\") as file:\n",
    "        content = file.read()\n",
    "\n",
    "        if content:  # Check if the file has any content\n",
    "            print(\"File content:\")\n",
    "            print(content)\n",
    "        else:\n",
    "            print(\"The file is empty.\")\n",
    "\n",
    "except FileNotFoundError:\n",
    "    print(\"Error: The file does not exist.\")\n",
    "except Exception as e:\n",
    "    print(f\"An unexpected error occurred: {e}\")\n"
   ]
  },
  {
   "cell_type": "markdown",
   "id": "4ff182bd-e987-4913-89c3-a268fee380c2",
   "metadata": {},
   "source": [
    "Q16. Demonstrate how to use memory profiling to check the memory usage of a small program.\n"
   ]
  },
  {
   "cell_type": "code",
   "execution_count": 17,
   "id": "a52f3aa4-5852-4324-bddb-22185ddaafb9",
   "metadata": {},
   "outputs": [
    {
     "name": "stdout",
     "output_type": "stream",
     "text": [
      "ERROR: Could not find file C:\\Users\\Asus\\AppData\\Local\\Temp\\ipykernel_14132\\2246363807.py\n"
     ]
    }
   ],
   "source": [
    "# save this file as test_memory.py\n",
    "\n",
    "from memory_profiler import profile\n",
    "\n",
    "@profile\n",
    "def create_large_list():\n",
    "    my_list = [i for i in range(1000000)]  # create a large list\n",
    "    return sum(my_list)\n",
    "\n",
    "if __name__ == \"__main__\":\n",
    "    create_large_list()\n"
   ]
  },
  {
   "cell_type": "markdown",
   "id": "5af076d5-e49e-475f-b9a8-07af2c780f5f",
   "metadata": {},
   "source": [
    "Q17. Write a Python program to create and write a list of numbers to a file, one number per line.\n"
   ]
  },
  {
   "cell_type": "code",
   "execution_count": 18,
   "id": "39a4f18d-f489-41b6-8c26-d6592dc73e2e",
   "metadata": {},
   "outputs": [
    {
     "name": "stdout",
     "output_type": "stream",
     "text": [
      "Numbers have been written to the file.\n"
     ]
    }
   ],
   "source": [
    "# List of numbers\n",
    "numbers = [1, 2, 3, 4, 5, 6, 7, 8, 9, 10]\n",
    "\n",
    "# Open a file in write mode ('w')\n",
    "with open(\"numbers.txt\", \"w\") as file:\n",
    "    # Iterate through the list and write each number on a new line\n",
    "    for number in numbers:\n",
    "        file.write(f\"{number}\\n\")\n",
    "\n",
    "print(\"Numbers have been written to the file.\")\n"
   ]
  },
  {
   "cell_type": "markdown",
   "id": "d5925e09-4fad-4125-be2a-6382f5690b3b",
   "metadata": {},
   "source": [
    "Q18. How would you implement a basic logging setup that logs to a file with rotation after 1MB.\n"
   ]
  },
  {
   "cell_type": "code",
   "execution_count": 19,
   "id": "f7f40e3b-af31-4fed-8415-f44bfc235a54",
   "metadata": {},
   "outputs": [],
   "source": [
    "import logging\n",
    "from logging.handlers import RotatingFileHandler\n",
    "\n",
    "# Create a logger\n",
    "logger = logging.getLogger(\"my_logger\")\n",
    "logger.setLevel(logging.DEBUG)\n",
    "\n",
    "# Create a rotating file handler that rotates after 1MB\n",
    "handler = RotatingFileHandler(\"app.log\", maxBytes=1e6, backupCount=3)  # 1MB = 1e6 bytes\n",
    "handler.setLevel(logging.DEBUG)\n",
    "\n",
    "# Create a formatter for the log messages\n",
    "formatter = logging.Formatter('%(asctime)s - %(levelname)s - %(message)s')\n",
    "handler.setFormatter(formatter)\n",
    "\n",
    "# Add the handler to the logger\n",
    "logger.addHandler(handler)\n",
    "\n",
    "# Example log messages\n",
    "logger.debug(\"This is a debug message.\")\n",
    "logger.info(\"This is an info message.\")\n",
    "logger.warning(\"This is a warning message.\")\n",
    "logger.error(\"This is an error message.\")\n",
    "logger.critical(\"This is a critical message.\")\n"
   ]
  },
  {
   "cell_type": "markdown",
   "id": "b9e2b291-fcbb-477c-9f03-9a5fd07183e5",
   "metadata": {},
   "source": [
    "Q19. Write a program that handles both IndexError and KeyError using a try-except block.\n"
   ]
  },
  {
   "cell_type": "code",
   "execution_count": null,
   "id": "3d363f71-7472-4715-b865-29d6edbaed5f",
   "metadata": {},
   "outputs": [],
   "source": [
    "# Define a list and dictionary\n",
    "my_list = [1, 2, 3]\n",
    "my_dict = {\"apple\": 5, \"banana\": 10}\n",
    "\n",
    "try:\n",
    "    # Access an index that doesn't exist in the list\n",
    "    print(my_list[5])\n",
    "    \n",
    "    # Access a key that doesn't exist in the dictionary\n",
    "    print(my_dict[\"orange\"])\n",
    "\n",
    "except IndexError:\n",
    "    print(\"Error: List index is out of range.\")\n",
    "\n",
    "except KeyError:\n",
    "    print(\"Error: Key does not exist in the dictionary.\")\n"
   ]
  },
  {
   "cell_type": "markdown",
   "id": "224bfa70-1ead-4526-9183-068beb4ae7cd",
   "metadata": {},
   "source": [
    "Q20. How would you open a file and read its contents using a context manager in Python.\n"
   ]
  },
  {
   "cell_type": "code",
   "execution_count": 21,
   "id": "bd0e3575-0b4c-49e0-a37e-1679c0c330f5",
   "metadata": {},
   "outputs": [
    {
     "name": "stdout",
     "output_type": "stream",
     "text": [
      "Hello, world!\n"
     ]
    }
   ],
   "source": [
    "# Using a context manager to open and read a file\n",
    "with open(\"example.txt\", \"r\") as file:\n",
    "    content = file.read()  # Reads the entire content of the file\n",
    "\n",
    "print(content)\n"
   ]
  },
  {
   "cell_type": "markdown",
   "id": "9663cb7c-b8df-43ae-b60b-e4b06f274467",
   "metadata": {},
   "source": [
    "Q21. Write a Python program that reads a file and prints the number of occurrences of a specific word.\n"
   ]
  },
  {
   "cell_type": "code",
   "execution_count": 22,
   "id": "71db60af-276d-4536-94ff-b5a323304a43",
   "metadata": {},
   "outputs": [
    {
     "name": "stdout",
     "output_type": "stream",
     "text": [
      "The word 'python' appears 0 times in the file.\n"
     ]
    }
   ],
   "source": [
    "# Function to count occurrences of a specific word in a file\n",
    "def count_word_occurrences(file_path, word_to_find):\n",
    "    try:\n",
    "        with open(file_path, 'r') as file:\n",
    "            content = file.read()\n",
    "            \n",
    "            # Count the number of times the word appears in the file\n",
    "            word_count = content.lower().split().count(word_to_find.lower())\n",
    "            return word_count\n",
    "\n",
    "    except FileNotFoundError:\n",
    "        print(\"Error: The file does not exist.\")\n",
    "        return 0\n",
    "\n",
    "# Specify the file and the word to search for\n",
    "file_path = \"example.txt\"\n",
    "word_to_find = \"python\"\n",
    "\n",
    "# Call the function and print the result\n",
    "occurrences = count_word_occurrences(file_path, word_to_find)\n",
    "print(f\"The word '{word_to_find}' appears {occurrences} times in the file.\")\n"
   ]
  },
  {
   "cell_type": "markdown",
   "id": "89ea9ef4-1ece-48fc-9a5b-7c912ed3eb45",
   "metadata": {},
   "source": [
    "Q22. How can you check if a file is empty before attempting to read its contents.\n"
   ]
  },
  {
   "cell_type": "code",
   "execution_count": 23,
   "id": "95927835-4236-4fbb-9eb0-03d5442fb6b3",
   "metadata": {},
   "outputs": [
    {
     "name": "stdout",
     "output_type": "stream",
     "text": [
      "File Content:\n",
      "Hello, world!\n"
     ]
    }
   ],
   "source": [
    "import os\n",
    "\n",
    "def read_file_if_not_empty(file_path):\n",
    "    # Check if the file exists and is not empty\n",
    "    if os.path.exists(file_path) and os.path.getsize(file_path) > 0:\n",
    "        with open(file_path, 'r') as file:\n",
    "            content = file.read()\n",
    "            print(\"File Content:\")\n",
    "            print(content)\n",
    "    elif os.path.exists(file_path):\n",
    "        print(\"The file is empty.\")\n",
    "    else:\n",
    "        print(\"The file does not exist.\")\n",
    "\n",
    "# Specify the file path\n",
    "file_path = \"example.txt\"\n",
    "read_file_if_not_empty(file_path)\n"
   ]
  },
  {
   "cell_type": "markdown",
   "id": "01afc9d0-606e-49b7-a1f7-89c91c5335cb",
   "metadata": {},
   "source": [
    "Q23. Write a Python program that writes to a log file when an error occurs during file handling.\n"
   ]
  },
  {
   "cell_type": "code",
   "execution_count": 24,
   "id": "36bc46fa-586e-46a3-85b9-372646431319",
   "metadata": {},
   "outputs": [
    {
     "name": "stdout",
     "output_type": "stream",
     "text": [
      "Error: The file non_existent_file.txt does not exist.\n"
     ]
    }
   ],
   "source": [
    "import logging\n",
    "\n",
    "# Set up logging configuration\n",
    "logging.basicConfig(\n",
    "    filename='file_handling_errors.log',\n",
    "    level=logging.ERROR,\n",
    "    format='%(asctime)s - %(levelname)s - %(message)s'\n",
    ")\n",
    "\n",
    "def read_file(file_path):\n",
    "    try:\n",
    "        with open(file_path, 'r') as file:\n",
    "            content = file.read()\n",
    "            print(content)\n",
    "    except FileNotFoundError as e:\n",
    "        logging.error(f\"FileNotFoundError: {e}\")\n",
    "        print(f\"Error: The file {file_path} does not exist.\")\n",
    "    except IOError as e:\n",
    "        logging.error(f\"IOError: {e}\")\n",
    "        print(f\"Error: An I/O error occurred while handling the file.\")\n",
    "    except Exception as e:\n",
    "        logging.error(f\"Unexpected error: {e}\")\n",
    "        print(\"An unexpected error occurred.\")\n",
    "\n",
    "# Example usage\n",
    "file_path = \"non_existent_file.txt\"\n",
    "read_file(file_path)\n"
   ]
  },
  {
   "cell_type": "code",
   "execution_count": null,
   "id": "5eb8ecbd-694a-4402-90ff-928aebb2884e",
   "metadata": {},
   "outputs": [],
   "source": []
  }
 ],
 "metadata": {
  "kernelspec": {
   "display_name": "Python 3 (ipykernel)",
   "language": "python",
   "name": "python3"
  },
  "language_info": {
   "codemirror_mode": {
    "name": "ipython",
    "version": 3
   },
   "file_extension": ".py",
   "mimetype": "text/x-python",
   "name": "python",
   "nbconvert_exporter": "python",
   "pygments_lexer": "ipython3",
   "version": "3.12.6"
  }
 },
 "nbformat": 4,
 "nbformat_minor": 5
}
